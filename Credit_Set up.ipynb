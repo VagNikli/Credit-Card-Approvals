{
 "cells": [
  {
   "cell_type": "code",
   "execution_count": 2,
   "metadata": {},
   "outputs": [],
   "source": [
    "#Import libraries\n",
    "import pandas as pd\n",
    "import numpy as np"
   ]
  },
  {
   "cell_type": "markdown",
   "metadata": {},
   "source": [
    "Pre-Processing"
   ]
  },
  {
   "cell_type": "code",
   "execution_count": 18,
   "metadata": {},
   "outputs": [
    {
     "name": "stderr",
     "output_type": "stream",
     "text": [
      "C:\\Users\\EvangelosNiklitsiost\\AppData\\Local\\Temp\\ipykernel_872\\228699250.py:69: FutureWarning: A value is trying to be set on a copy of a DataFrame or Series through chained assignment using an inplace method.\n",
      "The behavior will change in pandas 3.0. This inplace method will never work because the intermediate object on which we are setting values always behaves as a copy.\n",
      "\n",
      "For example, when doing 'df[col].method(value, inplace=True)', try using 'df.method({col: value}, inplace=True)' or df[col] = df[col].method(value) instead, to perform the operation inplace on the original object.\n",
      "\n",
      "\n",
      "  credit_data['Age'].fillna(credit_data['Age'].median(), inplace=True)\n"
     ]
    },
    {
     "data": {
      "text/plain": [
       "'C:\\\\Users\\\\EvangelosNiklitsiost\\\\OneDrive - IreckonU\\\\Desktop\\\\Credit Risk Project\\\\Dataset\\\\cc_approvals_modified.csv'"
      ]
     },
     "execution_count": 18,
     "metadata": {},
     "output_type": "execute_result"
    }
   ],
   "source": [
    "# Load the provided CSV file to check its contents\n",
    "file_path = r'C:\\Users\\EvangelosNiklitsiost\\OneDrive - IreckonU\\Desktop\\Credit Risk Project\\Dataset\\cc_approvals.csv'\n",
    "credit_data = pd.read_csv(file_path)\n",
    "\n",
    "#  Dictionary for column renaming\n",
    "new_column_names = {\n",
    "    '0': 'Gender',\n",
    "    '1': 'Age',\n",
    "    '2': 'Debt',\n",
    "    '3': 'MaritalStatus',\n",
    "    '4': 'EmploymentStatus',\n",
    "    '5': 'EducationLevel',\n",
    "    '6': 'HousingStatus',\n",
    "    '7': 'YearsEmployed',\n",
    "    '8': 'HasCreditCard',\n",
    "    '9': 'HasMortgage',\n",
    "    '10': 'CreditScore',\n",
    "    '11': 'HasOtherLoans',\n",
    "    '12': 'ResidentialArea',\n",
    "    '13': 'ID_code',\n",
    "    '14': 'CreditBalance',\n",
    "    '15': 'ApprovalStatus'\n",
    "}\n",
    "\n",
    "# Renaming the columns\n",
    "credit_data.rename(columns=new_column_names, inplace=True)\n",
    "\n",
    "\n",
    "# Mapping dictionaries for categorical variables\n",
    "mapping_dict = {\n",
    "    'Gender': {'b': 'Male', 'a': 'Female'},\n",
    "    'MaritalStatus': {'u': 'Unmarried', 'y': 'Married', 'l': 'Divorced', 't': 'Other'},\n",
    "    'EmploymentStatus': {'g': 'Government', 'p': 'Private', 'gg': 'Other'},\n",
    "\n",
    "    'EducationLevel': {'c': 'College', 'd': 'Diploma', 'cc': 'CommunityCollege', 'i': 'Intermediate', 'j': 'Junior',\n",
    "                       'k': 'Kindergarten', 'm': 'Masters', 'r': 'Research', 'q': 'Qualification', 'w': 'WorkExperience',\n",
    "                       'x': 'Other', 'e': 'Elementary', 'aa': 'Associate', 'ff': 'Fellowship'},\n",
    "    'HousingStatus': {'v': 'Owned', 'h': 'Rented', 'bb': 'Boarded', 'j': 'Joint', 'n': 'Non-Owner', 'z': 'ZeroOwn',\n",
    "                      'dd': 'DualDependency', 'ff': 'Freehold', 'o': 'Other'},\n",
    "    'HasCreditCard': {'t': 'Yes', 'f': 'No'},\n",
    "    'HasMortgage': {'t': 'Yes', 'f': 'No'},\n",
    "    'HasOtherLoans': {'t': 'Yes', 'f': 'No'},\n",
    "    'ResidentialArea': {'g': 'Urban','s': 'Suburban'},\n",
    "    'ApprovalStatus': {'+': 'Approved', '-': 'NotApproved'}\n",
    "}\n",
    "\n",
    "# Applying the mappings to the corresponding columns\n",
    "for column, mapping in mapping_dict.items():\n",
    "    credit_data[column] = credit_data[column].map(mapping)\n",
    "\n",
    "# Separate numerical and categorical columns\n",
    "numerical_cols = credit_data.select_dtypes(include=['float64', 'int64']).columns\n",
    "categorical_cols = credit_data.select_dtypes(include=['object']).columns\n",
    "\n",
    "# Imputing numerical columns with the median\n",
    "credit_data[numerical_cols] = credit_data[numerical_cols].fillna(credit_data[numerical_cols].median())\n",
    "\n",
    "# Imputing categorical columns with the mode\n",
    "for col in categorical_cols:\n",
    "    credit_data[col] = credit_data[col].fillna(credit_data[col].mode()[0])\n",
    "\n",
    "\n",
    "\n",
    "# Drop the 'ID_code' column\n",
    "credit_data.drop(columns=['ID_code'], inplace=True)\n",
    "\n",
    "# Replace invalid values in 'Age' with the median\n",
    "credit_data['Age'] = pd.to_numeric(credit_data['Age'], errors='coerce')\n",
    "credit_data['Age'].fillna(credit_data['Age'].median(), inplace=True)\n",
    "\n",
    "credit_data\n",
    "\n",
    "# Save the modified data to a new CSV file\n",
    "output_file_path = r'C:\\Users\\EvangelosNiklitsiost\\OneDrive - IreckonU\\Desktop\\Credit Risk Project\\Dataset\\cc_approvals_modified.csv'\n",
    "credit_data.to_csv(output_file_path, index=False)\n",
    "\n",
    "output_file_path\n"
   ]
  },
  {
   "cell_type": "code",
   "execution_count": 19,
   "metadata": {},
   "outputs": [
    {
     "data": {
      "text/plain": [
       "Gender              0\n",
       "Age                 0\n",
       "Debt                0\n",
       "MaritalStatus       0\n",
       "EmploymentStatus    0\n",
       "EducationLevel      0\n",
       "HousingStatus       0\n",
       "YearsEmployed       0\n",
       "HasCreditCard       0\n",
       "HasMortgage         0\n",
       "CreditScore         0\n",
       "HasOtherLoans       0\n",
       "ResidentialArea     0\n",
       "CreditBalance       0\n",
       "ApprovalStatus      0\n",
       "dtype: int64"
      ]
     },
     "execution_count": 19,
     "metadata": {},
     "output_type": "execute_result"
    }
   ],
   "source": [
    "# Checking if there are any '?' in the dataset\n",
    "invalid_value_counts = (credit_data == '?').sum()\n",
    "\n",
    "invalid_value_counts"
   ]
  }
 ],
 "metadata": {
  "kernelspec": {
   "display_name": "Python 3",
   "language": "python",
   "name": "python3"
  },
  "language_info": {
   "codemirror_mode": {
    "name": "ipython",
    "version": 3
   },
   "file_extension": ".py",
   "mimetype": "text/x-python",
   "name": "python",
   "nbconvert_exporter": "python",
   "pygments_lexer": "ipython3",
   "version": "3.12.4"
  }
 },
 "nbformat": 4,
 "nbformat_minor": 2
}
